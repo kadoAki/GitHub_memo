{
 "cells": [
  {
   "cell_type": "markdown",
   "metadata": {},
   "source": [
    "# python基礎メモ"
   ]
  },
  {
   "cell_type": "markdown",
   "metadata": {},
   "source": [
    "## よく使うライブラリ\n",
    "\n",
    "* 標準ライブラリ\n",
    "    ```python\n",
    "    # python 3.12\n",
    "    # pythonにあるライブラリ\n",
    "    import csv                          # csvファイルを操作できる\n",
    "    import datetime                     # 日時を扱う\n",
    "    import glob                         # ディレクトリ内のファイルを列挙できる\n",
    "    import os                           # ファイルの有無や作成～削除等、ファイル操作ができる\n",
    "    import pathlib                      # 空のファイルを作成する時\n",
    "    import shutil                       # ファイルのコピー, ディレクトリを中身ごと削除等高度なファイル操作ができる\n",
    "    import string                       # Templateを使える\n",
    "    import subprocess                   # ターミナルのコマンドを実行できる\n",
    "    import sys                          # pythonの基本設定をいじれる(再帰回数の変更で使ったことある)\n",
    "    import tarfile                      # Linux,macで使う. tarファイルの圧縮・展開ができる\n",
    "    import tempfile                     # tempファイルを扱う\n",
    "    import time                         # sleep等相対?的な時間操作ができる\n",
    "    import zipfile                      # windowsで使う. zipファイルの圧縮・展開ができる\n",
    "    ```\n",
    "\n",
    "* サードパーティーライブラリ\n",
    "    ```python\n",
    "    # pypl等で配布されている有名なパッケージ\n",
    "    import pandas as pd                 # 表計算等データベースみたいに操作できる\n",
    "    import numpy as np                  # 行列式等計算が得意\n",
    "    from scipy import                   # 科学計算が得意\n",
    "    import matplotlib.pyplot as plt     # グラフ描画の定番\n",
    "    import cv2 as cv\n",
    "    ```"
   ]
  },
  {
   "cell_type": "markdown",
   "metadata": {},
   "source": [
    "## よく使う環境\n",
    "* vscode\n",
    "* jupyternotebook\n",
    "* コードスタイルチェック\n",
    "    ```powershell\n",
    "    # インストール\n",
    "    pip install pycodestyle\n",
    "    pip install flake8\n",
    "    pip install pylint\n",
    "    # 使用\n",
    "    pycodestyle 'ファイル名.py' # 書き方がPEP8に準じているかチェック\n",
    "    flake8 'ファイル名.py'      # pycodestyle + importで使用されているかチェック\n",
    "    pylint 'ファイル名.py'      # flake8 + さらに細かくチェック\n",
    "    ```\n"
   ]
  },
  {
   "cell_type": "markdown",
   "metadata": {},
   "source": [
    "## ターミナルコマンド\n",
    "\n",
    "pip コマンド\n",
    "[pip_Doc](https://pip.pypa.io/en/stable/cli/)\n"
   ]
  },
  {
   "cell_type": "markdown",
   "metadata": {},
   "source": []
  }
 ],
 "metadata": {
  "kernelspec": {
   "display_name": "Python 3",
   "language": "python",
   "name": "python3"
  },
  "language_info": {
   "codemirror_mode": {
    "name": "ipython",
    "version": 3
   },
   "file_extension": ".py",
   "mimetype": "text/x-python",
   "name": "python",
   "nbconvert_exporter": "python",
   "pygments_lexer": "ipython3",
   "version": "3.12.0"
  }
 },
 "nbformat": 4,
 "nbformat_minor": 2
}
